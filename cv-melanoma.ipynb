{
 "cells": [
  {
   "cell_type": "code",
   "execution_count": 1,
   "metadata": {},
   "outputs": [
    {
     "name": "stdout",
     "output_type": "stream",
     "text": [
      "\u001b[33mWARNING: You are using pip version 20.1.1; however, version 20.2.1 is available.\r\n",
      "You should consider upgrading via the '/opt/conda/bin/python3.7 -m pip install --upgrade pip' command.\u001b[0m\r\n"
     ]
    }
   ],
   "source": [
    "!pip install -q efficientnet\n",
    "import efficientnet.tfkeras as efn"
   ]
  },
  {
   "cell_type": "code",
   "execution_count": 2,
   "metadata": {
    "_cell_guid": "b1076dfc-b9ad-4769-8c92-a6c4dae69d19",
    "_uuid": "8f2839f25d086af736a60e9eeb907d3b93b6e0e5"
   },
   "outputs": [],
   "source": [
    "import numpy as np\n",
    "import pandas as pd \n",
    "import tensorflow as tf\n",
    "from tensorflow import keras\n",
    "from kaggle_datasets import KaggleDatasets\n",
    "from keras.preprocessing import image\n",
    "import os\n",
    "from tqdm import tqdm\n",
    "from sklearn.model_selection import train_test_split, cross_val_score, GridSearchCV\n",
    "import math\n",
    "import tensorflow.keras.backend as K\n",
    "import re\n",
    "from sklearn.metrics import roc_auc_score\n",
    "from xgboost import XGBClassifier"
   ]
  },
  {
   "cell_type": "code",
   "execution_count": 3,
   "metadata": {},
   "outputs": [],
   "source": [
    "DEVICE = \"TPU\"\n",
    "PATH = \"../input/siim-isic-melanoma-classification\""
   ]
  },
  {
   "cell_type": "code",
   "execution_count": 4,
   "metadata": {
    "_cell_guid": "79c7e3d0-c299-4dcb-8224-4455121ee9b0",
    "_uuid": "d629ff2d2480ee46fbb7e2d37f6b5fab8052498a"
   },
   "outputs": [
    {
     "name": "stdout",
     "output_type": "stream",
     "text": [
      "connecting to TPU...\n",
      "Running on TPU  grpc://10.0.0.2:8470\n",
      "initializing  TPU ...\n",
      "TPU initialized\n",
      "REPLICAS: 8\n"
     ]
    }
   ],
   "source": [
    "if DEVICE == \"TPU\":\n",
    "    print(\"connecting to TPU...\")\n",
    "    try:\n",
    "        tpu = tf.distribute.cluster_resolver.TPUClusterResolver()\n",
    "        print('Running on TPU ', tpu.master())\n",
    "    except ValueError:\n",
    "        print(\"Could not connect to TPU\")\n",
    "        tpu = None\n",
    "\n",
    "    if tpu:\n",
    "        try:\n",
    "            print(\"initializing  TPU ...\")\n",
    "            tf.config.experimental_connect_to_cluster(tpu)\n",
    "            tf.tpu.experimental.initialize_tpu_system(tpu)\n",
    "            strategy = tf.distribute.experimental.TPUStrategy(tpu)\n",
    "            print(\"TPU initialized\")\n",
    "        except _:\n",
    "            print(\"failed to initialize TPU\")\n",
    "    else:\n",
    "        DEVICE = \"GPU\"\n",
    "\n",
    "if DEVICE != \"TPU\":\n",
    "    print(\"Using default strategy for CPU and single GPU\")\n",
    "    strategy = tf.distribute.get_strategy()\n",
    "\n",
    "if DEVICE == \"GPU\":\n",
    "    print(\"Num GPUs Available: \", len(tf.config.experimental.list_physical_devices('GPU')))\n",
    "    \n",
    "\n",
    "AUTO     = tf.data.experimental.AUTOTUNE\n",
    "REPLICAS = strategy.num_replicas_in_sync\n",
    "print(f'REPLICAS: {REPLICAS}')"
   ]
  },
  {
   "cell_type": "code",
   "execution_count": 5,
   "metadata": {},
   "outputs": [
    {
     "data": {
      "text/html": [
       "<div>\n",
       "<style scoped>\n",
       "    .dataframe tbody tr th:only-of-type {\n",
       "        vertical-align: middle;\n",
       "    }\n",
       "\n",
       "    .dataframe tbody tr th {\n",
       "        vertical-align: top;\n",
       "    }\n",
       "\n",
       "    .dataframe thead th {\n",
       "        text-align: right;\n",
       "    }\n",
       "</style>\n",
       "<table border=\"1\" class=\"dataframe\">\n",
       "  <thead>\n",
       "    <tr style=\"text-align: right;\">\n",
       "      <th></th>\n",
       "      <th>image_name</th>\n",
       "      <th>patient_id</th>\n",
       "      <th>sex</th>\n",
       "      <th>age_approx</th>\n",
       "      <th>anatom_site_general_challenge</th>\n",
       "      <th>diagnosis</th>\n",
       "      <th>benign_malignant</th>\n",
       "      <th>target</th>\n",
       "    </tr>\n",
       "  </thead>\n",
       "  <tbody>\n",
       "    <tr>\n",
       "      <th>0</th>\n",
       "      <td>ISIC_2637011</td>\n",
       "      <td>IP_7279968</td>\n",
       "      <td>male</td>\n",
       "      <td>45.0</td>\n",
       "      <td>head/neck</td>\n",
       "      <td>unknown</td>\n",
       "      <td>benign</td>\n",
       "      <td>0</td>\n",
       "    </tr>\n",
       "    <tr>\n",
       "      <th>1</th>\n",
       "      <td>ISIC_0015719</td>\n",
       "      <td>IP_3075186</td>\n",
       "      <td>female</td>\n",
       "      <td>45.0</td>\n",
       "      <td>upper extremity</td>\n",
       "      <td>unknown</td>\n",
       "      <td>benign</td>\n",
       "      <td>0</td>\n",
       "    </tr>\n",
       "    <tr>\n",
       "      <th>2</th>\n",
       "      <td>ISIC_0052212</td>\n",
       "      <td>IP_2842074</td>\n",
       "      <td>female</td>\n",
       "      <td>50.0</td>\n",
       "      <td>lower extremity</td>\n",
       "      <td>nevus</td>\n",
       "      <td>benign</td>\n",
       "      <td>0</td>\n",
       "    </tr>\n",
       "    <tr>\n",
       "      <th>3</th>\n",
       "      <td>ISIC_0068279</td>\n",
       "      <td>IP_6890425</td>\n",
       "      <td>female</td>\n",
       "      <td>45.0</td>\n",
       "      <td>head/neck</td>\n",
       "      <td>unknown</td>\n",
       "      <td>benign</td>\n",
       "      <td>0</td>\n",
       "    </tr>\n",
       "    <tr>\n",
       "      <th>4</th>\n",
       "      <td>ISIC_0074268</td>\n",
       "      <td>IP_8723313</td>\n",
       "      <td>female</td>\n",
       "      <td>55.0</td>\n",
       "      <td>upper extremity</td>\n",
       "      <td>unknown</td>\n",
       "      <td>benign</td>\n",
       "      <td>0</td>\n",
       "    </tr>\n",
       "  </tbody>\n",
       "</table>\n",
       "</div>"
      ],
      "text/plain": [
       "     image_name  patient_id     sex  age_approx anatom_site_general_challenge  \\\n",
       "0  ISIC_2637011  IP_7279968    male        45.0                     head/neck   \n",
       "1  ISIC_0015719  IP_3075186  female        45.0               upper extremity   \n",
       "2  ISIC_0052212  IP_2842074  female        50.0               lower extremity   \n",
       "3  ISIC_0068279  IP_6890425  female        45.0                     head/neck   \n",
       "4  ISIC_0074268  IP_8723313  female        55.0               upper extremity   \n",
       "\n",
       "  diagnosis benign_malignant  target  \n",
       "0   unknown           benign       0  \n",
       "1   unknown           benign       0  \n",
       "2     nevus           benign       0  \n",
       "3   unknown           benign       0  \n",
       "4   unknown           benign       0  "
      ]
     },
     "execution_count": 5,
     "metadata": {},
     "output_type": "execute_result"
    }
   ],
   "source": [
    "train_csv = pd.read_csv(os.path.join(PATH, \"train.csv\"))\n",
    "test_csv = pd.read_csv(os.path.join(PATH, \"test.csv\"))\n",
    "train_csv.head()"
   ]
  },
  {
   "cell_type": "code",
   "execution_count": 6,
   "metadata": {},
   "outputs": [
    {
     "name": "stdout",
     "output_type": "stream",
     "text": [
      "train size:  33126\n",
      "test size:  10982\n",
      "number of patients:  2056\n"
     ]
    }
   ],
   "source": [
    "print(\"train size: \", len(train_csv))\n",
    "print(\"test size: \", len(test_csv))\n",
    "print(\"number of patients: \", len(train_csv.patient_id.unique()))"
   ]
  },
  {
   "cell_type": "code",
   "execution_count": 7,
   "metadata": {},
   "outputs": [
    {
     "name": "stdout",
     "output_type": "stream",
     "text": [
      "benign_malignant:  ['benign' 'malignant']\n",
      "diagnosis:  ['unknown' 'nevus' 'melanoma' 'seborrheic keratosis' 'lentigo NOS'\n",
      " 'lichenoid keratosis' 'solar lentigo' 'cafe-au-lait macule'\n",
      " 'atypical melanocytic proliferation']\n",
      "anatom_site_general_challenge:  ['head/neck' 'upper extremity' 'lower extremity' 'torso' nan 'palms/soles'\n",
      " 'oral/genital']\n",
      "target:  [0 1]\n"
     ]
    }
   ],
   "source": [
    "print(\"benign_malignant: \", train_csv.benign_malignant.unique())\n",
    "print(\"diagnosis: \", train_csv.diagnosis.unique())\n",
    "print(\"anatom_site_general_challenge: \", train_csv.anatom_site_general_challenge.unique())\n",
    "print(\"target: \", train_csv.target.unique())"
   ]
  },
  {
   "cell_type": "code",
   "execution_count": 8,
   "metadata": {},
   "outputs": [
    {
     "name": "stdout",
     "output_type": "stream",
     "text": [
      "32542\n",
      "32542\n"
     ]
    }
   ],
   "source": [
    "print(len(train_csv[train_csv.benign_malignant==\"benign\"]))\n",
    "print(len(train_csv[train_csv.target==0]))"
   ]
  },
  {
   "cell_type": "code",
   "execution_count": 9,
   "metadata": {},
   "outputs": [
    {
     "data": {
      "text/html": [
       "<div>\n",
       "<style scoped>\n",
       "    .dataframe tbody tr th:only-of-type {\n",
       "        vertical-align: middle;\n",
       "    }\n",
       "\n",
       "    .dataframe tbody tr th {\n",
       "        vertical-align: top;\n",
       "    }\n",
       "\n",
       "    .dataframe thead th {\n",
       "        text-align: right;\n",
       "    }\n",
       "</style>\n",
       "<table border=\"1\" class=\"dataframe\">\n",
       "  <thead>\n",
       "    <tr style=\"text-align: right;\">\n",
       "      <th></th>\n",
       "      <th>image_name</th>\n",
       "      <th>patient_id</th>\n",
       "      <th>sex</th>\n",
       "      <th>age_approx</th>\n",
       "      <th>anatom_site_general_challenge</th>\n",
       "    </tr>\n",
       "  </thead>\n",
       "  <tbody>\n",
       "    <tr>\n",
       "      <th>0</th>\n",
       "      <td>ISIC_0052060</td>\n",
       "      <td>IP_3579794</td>\n",
       "      <td>male</td>\n",
       "      <td>70.0</td>\n",
       "      <td>NaN</td>\n",
       "    </tr>\n",
       "    <tr>\n",
       "      <th>1</th>\n",
       "      <td>ISIC_0052349</td>\n",
       "      <td>IP_7782715</td>\n",
       "      <td>male</td>\n",
       "      <td>40.0</td>\n",
       "      <td>lower extremity</td>\n",
       "    </tr>\n",
       "    <tr>\n",
       "      <th>2</th>\n",
       "      <td>ISIC_0058510</td>\n",
       "      <td>IP_7960270</td>\n",
       "      <td>female</td>\n",
       "      <td>55.0</td>\n",
       "      <td>torso</td>\n",
       "    </tr>\n",
       "    <tr>\n",
       "      <th>3</th>\n",
       "      <td>ISIC_0073313</td>\n",
       "      <td>IP_6375035</td>\n",
       "      <td>female</td>\n",
       "      <td>50.0</td>\n",
       "      <td>torso</td>\n",
       "    </tr>\n",
       "    <tr>\n",
       "      <th>4</th>\n",
       "      <td>ISIC_0073502</td>\n",
       "      <td>IP_0589375</td>\n",
       "      <td>female</td>\n",
       "      <td>45.0</td>\n",
       "      <td>lower extremity</td>\n",
       "    </tr>\n",
       "  </tbody>\n",
       "</table>\n",
       "</div>"
      ],
      "text/plain": [
       "     image_name  patient_id     sex  age_approx anatom_site_general_challenge\n",
       "0  ISIC_0052060  IP_3579794    male        70.0                           NaN\n",
       "1  ISIC_0052349  IP_7782715    male        40.0               lower extremity\n",
       "2  ISIC_0058510  IP_7960270  female        55.0                         torso\n",
       "3  ISIC_0073313  IP_6375035  female        50.0                         torso\n",
       "4  ISIC_0073502  IP_0589375  female        45.0               lower extremity"
      ]
     },
     "execution_count": 9,
     "metadata": {},
     "output_type": "execute_result"
    }
   ],
   "source": [
    "test_csv.head()"
   ]
  },
  {
   "cell_type": "code",
   "execution_count": 10,
   "metadata": {},
   "outputs": [
    {
     "name": "stdout",
     "output_type": "stream",
     "text": [
      "image_name 0\n",
      "patient_id 0\n",
      "sex 65\n",
      "age_approx 68\n",
      "anatom_site_general_challenge 527\n",
      "diagnosis 0\n",
      "benign_malignant 0\n",
      "target 0\n"
     ]
    }
   ],
   "source": [
    "columns = train_csv.columns\n",
    "for i in columns:\n",
    "    print(i, train_csv[i].isnull().sum())"
   ]
  },
  {
   "cell_type": "code",
   "execution_count": 11,
   "metadata": {},
   "outputs": [
    {
     "name": "stdout",
     "output_type": "stream",
     "text": [
      "image_name 0\n",
      "patient_id 0\n",
      "sex 0\n",
      "age_approx 0\n",
      "anatom_site_general_challenge 351\n"
     ]
    }
   ],
   "source": [
    "columns = test_csv.columns\n",
    "for i in columns:\n",
    "    print(i, test_csv[i].isnull().sum())"
   ]
  },
  {
   "cell_type": "code",
   "execution_count": 12,
   "metadata": {},
   "outputs": [],
   "source": [
    "age = np.concatenate((train_csv.age_approx.dropna().to_numpy(), test_csv.age_approx.to_numpy()), axis=None)\n",
    "age_avg = float(int(np.average(age)))\n",
    "train_csv.age_approx = train_csv.age_approx.fillna(age_avg)"
   ]
  },
  {
   "cell_type": "code",
   "execution_count": 13,
   "metadata": {},
   "outputs": [
    {
     "name": "stdout",
     "output_type": "stream",
     "text": [
      "train:\n",
      " male      17080\n",
      "female    15981\n",
      "Name: sex, dtype: int64\n",
      "test:\n",
      " male      6255\n",
      "female    4727\n",
      "Name: sex, dtype: int64\n"
     ]
    }
   ],
   "source": [
    "print(\"train:\\n\", train_csv.sex.value_counts())\n",
    "print(\"test:\\n\", test_csv.sex.value_counts())"
   ]
  },
  {
   "cell_type": "code",
   "execution_count": 14,
   "metadata": {},
   "outputs": [
    {
     "name": "stdout",
     "output_type": "stream",
     "text": [
      "<class 'pandas.core.frame.DataFrame'>\n",
      "RangeIndex: 33126 entries, 0 to 33125\n",
      "Data columns (total 8 columns):\n",
      " #   Column                         Non-Null Count  Dtype  \n",
      "---  ------                         --------------  -----  \n",
      " 0   image_name                     33126 non-null  object \n",
      " 1   patient_id                     33126 non-null  object \n",
      " 2   sex                            33126 non-null  object \n",
      " 3   age_approx                     33126 non-null  float64\n",
      " 4   anatom_site_general_challenge  33126 non-null  object \n",
      " 5   diagnosis                      33126 non-null  object \n",
      " 6   benign_malignant               33126 non-null  object \n",
      " 7   target                         33126 non-null  int64  \n",
      "dtypes: float64(1), int64(1), object(6)\n",
      "memory usage: 2.0+ MB\n"
     ]
    }
   ],
   "source": [
    "train_csv.sex = train_csv.sex.fillna(train_csv.sex.mode()[0])\n",
    "train_csv.anatom_site_general_challenge = train_csv.anatom_site_general_challenge.fillna(\"unknown\")\n",
    "test_csv.anatom_site_general_challenge = test_csv.anatom_site_general_challenge.fillna(\"unknown\")\n",
    "train_csv.info()"
   ]
  },
  {
   "cell_type": "code",
   "execution_count": 15,
   "metadata": {},
   "outputs": [
    {
     "data": {
      "text/html": [
       "<div>\n",
       "<style scoped>\n",
       "    .dataframe tbody tr th:only-of-type {\n",
       "        vertical-align: middle;\n",
       "    }\n",
       "\n",
       "    .dataframe tbody tr th {\n",
       "        vertical-align: top;\n",
       "    }\n",
       "\n",
       "    .dataframe thead th {\n",
       "        text-align: right;\n",
       "    }\n",
       "</style>\n",
       "<table border=\"1\" class=\"dataframe\">\n",
       "  <thead>\n",
       "    <tr style=\"text-align: right;\">\n",
       "      <th></th>\n",
       "      <th>age_approx</th>\n",
       "      <th>target</th>\n",
       "      <th>sex_female</th>\n",
       "      <th>sex_male</th>\n",
       "      <th>anatom_site_general_challenge_head/neck</th>\n",
       "      <th>anatom_site_general_challenge_lower extremity</th>\n",
       "      <th>anatom_site_general_challenge_oral/genital</th>\n",
       "      <th>anatom_site_general_challenge_palms/soles</th>\n",
       "      <th>anatom_site_general_challenge_torso</th>\n",
       "      <th>anatom_site_general_challenge_unknown</th>\n",
       "      <th>anatom_site_general_challenge_upper extremity</th>\n",
       "    </tr>\n",
       "  </thead>\n",
       "  <tbody>\n",
       "    <tr>\n",
       "      <th>0</th>\n",
       "      <td>45.0</td>\n",
       "      <td>0</td>\n",
       "      <td>0</td>\n",
       "      <td>1</td>\n",
       "      <td>1</td>\n",
       "      <td>0</td>\n",
       "      <td>0</td>\n",
       "      <td>0</td>\n",
       "      <td>0</td>\n",
       "      <td>0</td>\n",
       "      <td>0</td>\n",
       "    </tr>\n",
       "    <tr>\n",
       "      <th>1</th>\n",
       "      <td>45.0</td>\n",
       "      <td>0</td>\n",
       "      <td>1</td>\n",
       "      <td>0</td>\n",
       "      <td>0</td>\n",
       "      <td>0</td>\n",
       "      <td>0</td>\n",
       "      <td>0</td>\n",
       "      <td>0</td>\n",
       "      <td>0</td>\n",
       "      <td>1</td>\n",
       "    </tr>\n",
       "    <tr>\n",
       "      <th>2</th>\n",
       "      <td>50.0</td>\n",
       "      <td>0</td>\n",
       "      <td>1</td>\n",
       "      <td>0</td>\n",
       "      <td>0</td>\n",
       "      <td>1</td>\n",
       "      <td>0</td>\n",
       "      <td>0</td>\n",
       "      <td>0</td>\n",
       "      <td>0</td>\n",
       "      <td>0</td>\n",
       "    </tr>\n",
       "    <tr>\n",
       "      <th>3</th>\n",
       "      <td>45.0</td>\n",
       "      <td>0</td>\n",
       "      <td>1</td>\n",
       "      <td>0</td>\n",
       "      <td>1</td>\n",
       "      <td>0</td>\n",
       "      <td>0</td>\n",
       "      <td>0</td>\n",
       "      <td>0</td>\n",
       "      <td>0</td>\n",
       "      <td>0</td>\n",
       "    </tr>\n",
       "    <tr>\n",
       "      <th>4</th>\n",
       "      <td>55.0</td>\n",
       "      <td>0</td>\n",
       "      <td>1</td>\n",
       "      <td>0</td>\n",
       "      <td>0</td>\n",
       "      <td>0</td>\n",
       "      <td>0</td>\n",
       "      <td>0</td>\n",
       "      <td>0</td>\n",
       "      <td>0</td>\n",
       "      <td>1</td>\n",
       "    </tr>\n",
       "  </tbody>\n",
       "</table>\n",
       "</div>"
      ],
      "text/plain": [
       "   age_approx  target  sex_female  sex_male  \\\n",
       "0        45.0       0           0         1   \n",
       "1        45.0       0           1         0   \n",
       "2        50.0       0           1         0   \n",
       "3        45.0       0           1         0   \n",
       "4        55.0       0           1         0   \n",
       "\n",
       "   anatom_site_general_challenge_head/neck  \\\n",
       "0                                        1   \n",
       "1                                        0   \n",
       "2                                        0   \n",
       "3                                        1   \n",
       "4                                        0   \n",
       "\n",
       "   anatom_site_general_challenge_lower extremity  \\\n",
       "0                                              0   \n",
       "1                                              0   \n",
       "2                                              1   \n",
       "3                                              0   \n",
       "4                                              0   \n",
       "\n",
       "   anatom_site_general_challenge_oral/genital  \\\n",
       "0                                           0   \n",
       "1                                           0   \n",
       "2                                           0   \n",
       "3                                           0   \n",
       "4                                           0   \n",
       "\n",
       "   anatom_site_general_challenge_palms/soles  \\\n",
       "0                                          0   \n",
       "1                                          0   \n",
       "2                                          0   \n",
       "3                                          0   \n",
       "4                                          0   \n",
       "\n",
       "   anatom_site_general_challenge_torso  anatom_site_general_challenge_unknown  \\\n",
       "0                                    0                                      0   \n",
       "1                                    0                                      0   \n",
       "2                                    0                                      0   \n",
       "3                                    0                                      0   \n",
       "4                                    0                                      0   \n",
       "\n",
       "   anatom_site_general_challenge_upper extremity  \n",
       "0                                              0  \n",
       "1                                              1  \n",
       "2                                              0  \n",
       "3                                              0  \n",
       "4                                              1  "
      ]
     },
     "execution_count": 15,
     "metadata": {},
     "output_type": "execute_result"
    }
   ],
   "source": [
    "train_csv = pd.get_dummies(train_csv, columns=[\"sex\", \"anatom_site_general_challenge\"])\n",
    "train_csv = train_csv.drop([\"image_name\", \"patient_id\", \"diagnosis\", \"benign_malignant\"], axis=1)\n",
    "test = pd.get_dummies(test_csv, columns=[\"sex\", \"anatom_site_general_challenge\"])\n",
    "test = test.drop([\"image_name\", \"patient_id\"], axis=1)\n",
    "train_csv.head()"
   ]
  },
  {
   "cell_type": "code",
   "execution_count": 16,
   "metadata": {},
   "outputs": [],
   "source": [
    "X_train = train_csv.drop(\"target\", axis=1)\n",
    "y_train = train_csv[\"target\"]"
   ]
  },
  {
   "cell_type": "code",
   "execution_count": 17,
   "metadata": {},
   "outputs": [
    {
     "data": {
      "text/plain": [
       "55.72"
      ]
     },
     "execution_count": 17,
     "metadata": {},
     "output_type": "execute_result"
    }
   ],
   "source": [
    "pos = len(train_csv[train_csv.target==1])\n",
    "neg = len(train_csv[train_csv.target==0])\n",
    "weight = round(neg/pos, 2)\n",
    "weight"
   ]
  },
  {
   "cell_type": "code",
   "execution_count": 18,
   "metadata": {},
   "outputs": [
    {
     "data": {
      "text/plain": [
       "XGBClassifier(base_score=0.5, booster='gbtree', colsample_bylevel=1,\n",
       "              colsample_bynode=1, colsample_bytree=0.8, gamma=0, gpu_id=-1,\n",
       "              importance_type='gain', interaction_constraints='',\n",
       "              learning_rate=0.01, max_delta_step=0, max_depth=5,\n",
       "              min_child_weight=30, missing=nan, monotone_constraints='()',\n",
       "              n_estimators=1000, n_jobs=-1, num_parallel_tree=1, random_state=0,\n",
       "              reg_alpha=0, reg_lambda=1, scale_pos_weight=55.72, subsample=0.7,\n",
       "              tree_method='exact', validate_parameters=1, verbosity=None)"
      ]
     },
     "execution_count": 18,
     "metadata": {},
     "output_type": "execute_result"
    }
   ],
   "source": [
    "xgb = XGBClassifier(objective='binary:logistic', n_estimators=1000, learning_rate=0.01, \n",
    "                    max_depth=5, min_child_weight=30, subsample=0.7, colsample_bytree=0.8, \n",
    "                    scale_pos_weight=weight ,n_jobs=-1)\n",
    "xgb.fit(X_train, y_train)"
   ]
  },
  {
   "cell_type": "code",
   "execution_count": 19,
   "metadata": {},
   "outputs": [],
   "source": [
    "predictions = xgb.predict_proba(test)[:, 1]\n",
    "meta_df = pd.DataFrame(columns=['image_name', 'target'])\n",
    "meta_df['image_name'] = test_csv['image_name']\n",
    "meta_df['target'] = predictions\n",
    "meta_df.to_csv('meta_sub.csv', header=True, index=False)"
   ]
  },
  {
   "cell_type": "code",
   "execution_count": 20,
   "metadata": {},
   "outputs": [],
   "source": [
    "GCS_PATH1 = KaggleDatasets().get_gcs_path('melanoma-512x512')\n",
    "GCS_PATH2 = KaggleDatasets().get_gcs_path('isic2019-512x512')\n",
    "GCS_PATH3 = KaggleDatasets().get_gcs_path('malignant-512x512')\n",
    "GCS_PATH4 = KaggleDatasets().get_gcs_path('malignant-v2-512x512')\n",
    "TRAINING_FILENAMES = tf.io.gfile.glob(GCS_PATH1 + '/train*.tfrec')\n",
    "TRAINING_FILENAMES += tf.io.gfile.glob(GCS_PATH2 + '/train*.tfrec')\n",
    "TRAINING_FILENAMES += tf.io.gfile.glob(GCS_PATH3 + '/train*.tfrec')\n",
    "TRAINING_FILENAMES += tf.io.gfile.glob(GCS_PATH4 + '/train*.tfrec')\n",
    "TEST_FILENAMES = tf.io.gfile.glob(GCS_PATH1 + '/test*.tfrec')"
   ]
  },
  {
   "cell_type": "code",
   "execution_count": 21,
   "metadata": {},
   "outputs": [],
   "source": [
    "def get_mat(rotation, shear, height_zoom, width_zoom, height_shift, width_shift):\n",
    "        \n",
    "    rotation = math.pi * rotation / 180.\n",
    "    shear    = math.pi * shear    / 180.\n",
    "\n",
    "    def get_3x3_mat(lst):\n",
    "        return tf.reshape(tf.concat([lst],axis=0), [3,3])\n",
    "    \n",
    "    c1   = tf.math.cos(rotation)\n",
    "    s1   = tf.math.sin(rotation)\n",
    "    one  = tf.constant([1],dtype='float32')\n",
    "    zero = tf.constant([0],dtype='float32')\n",
    "    \n",
    "    rotation_matrix = get_3x3_mat([c1,   s1,   zero, \n",
    "                                   -s1,  c1,   zero, \n",
    "                                   zero, zero, one])    \n",
    "    c2 = tf.math.cos(shear)\n",
    "    s2 = tf.math.sin(shear)    \n",
    "    \n",
    "    shear_matrix = get_3x3_mat([one,  s2,   zero, \n",
    "                                zero, c2,   zero, \n",
    "                                zero, zero, one])        \n",
    "    \n",
    "    zoom_matrix = get_3x3_mat([one/height_zoom, zero,           zero, \n",
    "                               zero,            one/width_zoom, zero, \n",
    "                               zero,            zero,           one])    \n",
    "    \n",
    "    shift_matrix = get_3x3_mat([one,  zero, height_shift, \n",
    "                                zero, one,  width_shift, \n",
    "                                zero, zero, one])\n",
    "    \n",
    "    return K.dot(K.dot(rotation_matrix, shear_matrix), \n",
    "                 K.dot(zoom_matrix,     shift_matrix))"
   ]
  },
  {
   "cell_type": "code",
   "execution_count": 22,
   "metadata": {},
   "outputs": [],
   "source": [
    "def transform(image):    \n",
    "\n",
    "    DIM = 256\n",
    "    XDIM = DIM%2\n",
    "    \n",
    "    rot = 180 * tf.random.normal([1], dtype='float32')\n",
    "    shr = 2.0 * tf.random.normal([1], dtype='float32') \n",
    "    h_zoom = 1.0 + tf.random.normal([1], dtype='float32') / 8.0\n",
    "    w_zoom = 1.0 + tf.random.normal([1], dtype='float32') / 8.0\n",
    "    h_shift = 8.0 * tf.random.normal([1], dtype='float32') \n",
    "    w_shift = 8.0 * tf.random.normal([1], dtype='float32') \n",
    "\n",
    "    # GET TRANSFORMATION MATRIX\n",
    "    m = get_mat(rot,shr,h_zoom,w_zoom,h_shift,w_shift) \n",
    "\n",
    "    # LIST DESTINATION PIXEL INDICES\n",
    "    x   = tf.repeat(tf.range(DIM//2, -DIM//2,-1), DIM)\n",
    "    y   = tf.tile(tf.range(-DIM//2, DIM//2), [DIM])\n",
    "    z   = tf.ones([DIM*DIM], dtype='int32')\n",
    "    idx = tf.stack( [x,y,z] )\n",
    "    \n",
    "    # ROTATE DESTINATION PIXELS ONTO ORIGIN PIXELS\n",
    "    idx2 = K.dot(m, tf.cast(idx, dtype='float32'))\n",
    "    idx2 = K.cast(idx2, dtype='int32')\n",
    "    idx2 = K.clip(idx2, -DIM//2+XDIM+1, DIM//2)\n",
    "    # FIND ORIGIN PIXEL VALUES           \n",
    "    idx3 = tf.stack([DIM//2-idx2[0,], DIM//2-1+idx2[1,]])\n",
    "    d    = tf.gather_nd(image, tf.transpose(idx3))\n",
    "        \n",
    "    return tf.reshape(d,[DIM, DIM,3])"
   ]
  },
  {
   "cell_type": "code",
   "execution_count": 23,
   "metadata": {},
   "outputs": [],
   "source": [
    "def read_labeled_tfrecord(example):\n",
    "    tfrec_format = {\n",
    "        'image'                        : tf.io.FixedLenFeature([], tf.string),\n",
    "        'image_name'                   : tf.io.FixedLenFeature([], tf.string),\n",
    "        'patient_id'                   : tf.io.FixedLenFeature([], tf.int64),\n",
    "        'sex'                          : tf.io.FixedLenFeature([], tf.int64),\n",
    "        'age_approx'                   : tf.io.FixedLenFeature([], tf.int64),\n",
    "        'anatom_site_general_challenge': tf.io.FixedLenFeature([], tf.int64),\n",
    "        'diagnosis'                    : tf.io.FixedLenFeature([], tf.int64),\n",
    "        'target'                       : tf.io.FixedLenFeature([], tf.int64)\n",
    "    }           \n",
    "    example = tf.io.parse_single_example(example, tfrec_format)\n",
    "    return example['image'], example['target']"
   ]
  },
  {
   "cell_type": "code",
   "execution_count": 24,
   "metadata": {},
   "outputs": [],
   "source": [
    "def read_unlabeled_tfrecord(example, return_image_name):\n",
    "    tfrec_format = {\n",
    "        'image'                        : tf.io.FixedLenFeature([], tf.string),\n",
    "        'image_name'                   : tf.io.FixedLenFeature([], tf.string),\n",
    "    }\n",
    "    example = tf.io.parse_single_example(example, tfrec_format)\n",
    "    return example['image'], example['image_name'] if return_image_name else 0"
   ]
  },
  {
   "cell_type": "code",
   "execution_count": 25,
   "metadata": {},
   "outputs": [],
   "source": [
    "def prepare_image(img, augment=True):    \n",
    "    img = tf.image.decode_jpeg(img, channels=3)\n",
    "    img = tf.image.resize(img, [256, 256])\n",
    "    img = tf.cast(img, tf.float32) / 255.0\n",
    "    \n",
    "    if augment:\n",
    "        img = transform(img)\n",
    "        img = tf.image.random_crop(img, [250, 250, 3])\n",
    "        img = tf.image.random_flip_left_right(img)\n",
    "        img = tf.image.random_hue(img, 0.01)\n",
    "        img = tf.image.random_saturation(img, 0.7, 1.3)\n",
    "        img = tf.image.random_contrast(img, 0.8, 1.2)\n",
    "        img = tf.image.random_brightness(img, 0.1)\n",
    "\n",
    "    else:\n",
    "        img = tf.image.central_crop(img, 250 / 250)\n",
    "                                   \n",
    "    img = tf.image.resize(img, [224, 224])\n",
    "    img = tf.reshape(img, [224, 224, 3])\n",
    "    return img"
   ]
  },
  {
   "cell_type": "code",
   "execution_count": 26,
   "metadata": {},
   "outputs": [],
   "source": [
    "def count_data_items(filenames):\n",
    "    n = [int(re.compile(r\"-([0-9]*)\\.\").search(filename).group(1)) for filename in filenames]\n",
    "    return np.sum(n)"
   ]
  },
  {
   "cell_type": "code",
   "execution_count": 27,
   "metadata": {},
   "outputs": [],
   "source": [
    "def get_dataset(files, augment = False, shuffle = False, repeat = False, \n",
    "                labeled=True, return_image_names=True):\n",
    "    \n",
    "    ds = tf.data.TFRecordDataset(files, num_parallel_reads=AUTO)\n",
    "    ds = ds.cache()\n",
    "    \n",
    "    if repeat:\n",
    "        ds = ds.repeat()\n",
    "    \n",
    "    if shuffle: \n",
    "        ds = ds.shuffle(1024*8)\n",
    "        opt = tf.data.Options()\n",
    "        opt.experimental_deterministic = False\n",
    "        ds = ds.with_options(opt)\n",
    "        \n",
    "    if labeled: \n",
    "        ds = ds.map(read_labeled_tfrecord, num_parallel_calls=AUTO)\n",
    "    else:\n",
    "        ds = ds.map(lambda example: read_unlabeled_tfrecord(example, return_image_names), \n",
    "                    num_parallel_calls=AUTO)      \n",
    "    \n",
    "    ds = ds.map(lambda img, imgname_or_label: (prepare_image(img, augment=augment), \n",
    "                                               imgname_or_label), \n",
    "                num_parallel_calls=AUTO)\n",
    "    \n",
    "    ds = ds.batch(16 * REPLICAS)\n",
    "    ds = ds.prefetch(AUTO)\n",
    "    return ds"
   ]
  },
  {
   "cell_type": "code",
   "execution_count": 28,
   "metadata": {},
   "outputs": [],
   "source": [
    "def lr_callback():\n",
    "    lr_start   = 0.000005\n",
    "    lr_max     = 0.000020 * strategy.num_replicas_in_sync\n",
    "    lr_min     = 0.000001\n",
    "    lr_ramp_ep = 5\n",
    "    lr_sus_ep  = 0\n",
    "    lr_decay   = 0.8\n",
    "   \n",
    "    def lrfn(epoch):\n",
    "        if epoch < lr_ramp_ep:\n",
    "            lr = (lr_max - lr_start) / lr_ramp_ep * epoch + lr_start\n",
    "            \n",
    "        elif epoch < lr_ramp_ep + lr_sus_ep:\n",
    "            lr = lr_max\n",
    "            \n",
    "        else:\n",
    "            lr = (lr_max - lr_min) * lr_decay**(epoch - lr_ramp_ep - lr_sus_ep) + lr_min\n",
    "            \n",
    "        return lr\n",
    "\n",
    "    lr_callback = tf.keras.callbacks.LearningRateScheduler(lrfn, verbose=False)\n",
    "    return lr_callback"
   ]
  },
  {
   "cell_type": "code",
   "execution_count": 29,
   "metadata": {},
   "outputs": [],
   "source": [
    "def build_model():\n",
    "    inputs = tf.keras.Input(shape=(224, 224, 3))\n",
    "    dummy = tf.keras.layers.Lambda(lambda x:x)(inputs)\n",
    "    outputs = []    \n",
    "    for i in range(8):\n",
    "        base = getattr(efn, f'EfficientNetB{i}')\n",
    "        x = base(include_top=False, weights='imagenet', input_shape=(224, 224, 3))(dummy)\n",
    "        x = keras.layers.GlobalAveragePooling2D()(x)\n",
    "        x = keras.layers.Dropout(0.2)(x)\n",
    "        x = keras.layers.Dense(512)(x)\n",
    "        x = keras.layers.Dropout(0.2)(x)\n",
    "        x = keras.layers.Dense(128)(x)\n",
    "        x = tf.keras.layers.Dense(1, activation='sigmoid')(x)\n",
    "        outputs.append(x)\n",
    "        \n",
    "    model = tf.keras.Model(inputs, outputs)\n",
    "    model.summary()\n",
    "    return model"
   ]
  },
  {
   "cell_type": "code",
   "execution_count": 30,
   "metadata": {},
   "outputs": [
    {
     "name": "stdout",
     "output_type": "stream",
     "text": [
      "Downloading data from https://github.com/Callidior/keras-applications/releases/download/efficientnet/efficientnet-b0_weights_tf_dim_ordering_tf_kernels_autoaugment_notop.h5\n",
      "16809984/16804768 [==============================] - 12s 1us/step\n",
      "Downloading data from https://github.com/Callidior/keras-applications/releases/download/efficientnet/efficientnet-b1_weights_tf_dim_ordering_tf_kernels_autoaugment_notop.h5\n",
      "27164672/27164032 [==============================] - 1s 0us/step\n",
      "Downloading data from https://github.com/Callidior/keras-applications/releases/download/efficientnet/efficientnet-b2_weights_tf_dim_ordering_tf_kernels_autoaugment_notop.h5\n",
      "31940608/31936256 [==============================] - 1s 0us/step\n",
      "Downloading data from https://github.com/Callidior/keras-applications/releases/download/efficientnet/efficientnet-b3_weights_tf_dim_ordering_tf_kernels_autoaugment_notop.h5\n",
      "44113920/44107200 [==============================] - 6s 0us/step\n",
      "Downloading data from https://github.com/Callidior/keras-applications/releases/download/efficientnet/efficientnet-b4_weights_tf_dim_ordering_tf_kernels_autoaugment_notop.h5\n",
      "71892992/71892840 [==============================] - 1s 0us/step\n",
      "Downloading data from https://github.com/Callidior/keras-applications/releases/download/efficientnet/efficientnet-b5_weights_tf_dim_ordering_tf_kernels_autoaugment_notop.h5\n",
      "115515392/115515256 [==============================] - 1s 0us/step\n",
      "Downloading data from https://github.com/Callidior/keras-applications/releases/download/efficientnet/efficientnet-b6_weights_tf_dim_ordering_tf_kernels_autoaugment_notop.h5\n",
      "165527552/165527152 [==============================] - 16s 0us/step\n",
      "Downloading data from https://github.com/Callidior/keras-applications/releases/download/efficientnet/efficientnet-b7_weights_tf_dim_ordering_tf_kernels_autoaugment_notop.h5\n",
      "258441216/258434480 [==============================] - 3s 0us/step\n",
      "Model: \"model\"\n",
      "__________________________________________________________________________________________________\n",
      "Layer (type)                    Output Shape         Param #     Connected to                     \n",
      "==================================================================================================\n",
      "input_1 (InputLayer)            [(None, 224, 224, 3) 0                                            \n",
      "__________________________________________________________________________________________________\n",
      "lambda (Lambda)                 (None, 224, 224, 3)  0           input_1[0][0]                    \n",
      "__________________________________________________________________________________________________\n",
      "efficientnet-b0 (Model)         (None, 7, 7, 1280)   4049564     lambda[0][0]                     \n",
      "__________________________________________________________________________________________________\n",
      "efficientnet-b1 (Model)         (None, 7, 7, 1280)   6575232     lambda[0][0]                     \n",
      "__________________________________________________________________________________________________\n",
      "efficientnet-b2 (Model)         (None, 7, 7, 1408)   7768562     lambda[0][0]                     \n",
      "__________________________________________________________________________________________________\n",
      "efficientnet-b3 (Model)         (None, 7, 7, 1536)   10783528    lambda[0][0]                     \n",
      "__________________________________________________________________________________________________\n",
      "efficientnet-b4 (Model)         (None, 7, 7, 1792)   17673816    lambda[0][0]                     \n",
      "__________________________________________________________________________________________________\n",
      "efficientnet-b5 (Model)         (None, 7, 7, 2048)   28513520    lambda[0][0]                     \n",
      "__________________________________________________________________________________________________\n",
      "efficientnet-b6 (Model)         (None, 7, 7, 2304)   40960136    lambda[0][0]                     \n",
      "__________________________________________________________________________________________________\n",
      "efficientnet-b7 (Model)         (None, 7, 7, 2560)   64097680    lambda[0][0]                     \n",
      "__________________________________________________________________________________________________\n",
      "global_average_pooling2d (Globa (None, 1280)         0           efficientnet-b0[1][0]            \n",
      "__________________________________________________________________________________________________\n",
      "global_average_pooling2d_1 (Glo (None, 1280)         0           efficientnet-b1[1][0]            \n",
      "__________________________________________________________________________________________________\n",
      "global_average_pooling2d_2 (Glo (None, 1408)         0           efficientnet-b2[1][0]            \n",
      "__________________________________________________________________________________________________\n",
      "global_average_pooling2d_3 (Glo (None, 1536)         0           efficientnet-b3[1][0]            \n",
      "__________________________________________________________________________________________________\n",
      "global_average_pooling2d_4 (Glo (None, 1792)         0           efficientnet-b4[1][0]            \n",
      "__________________________________________________________________________________________________\n",
      "global_average_pooling2d_5 (Glo (None, 2048)         0           efficientnet-b5[1][0]            \n",
      "__________________________________________________________________________________________________\n",
      "global_average_pooling2d_6 (Glo (None, 2304)         0           efficientnet-b6[1][0]            \n",
      "__________________________________________________________________________________________________\n",
      "global_average_pooling2d_7 (Glo (None, 2560)         0           efficientnet-b7[1][0]            \n",
      "__________________________________________________________________________________________________\n",
      "dropout (Dropout)               (None, 1280)         0           global_average_pooling2d[0][0]   \n",
      "__________________________________________________________________________________________________\n",
      "dropout_2 (Dropout)             (None, 1280)         0           global_average_pooling2d_1[0][0] \n",
      "__________________________________________________________________________________________________\n",
      "dropout_4 (Dropout)             (None, 1408)         0           global_average_pooling2d_2[0][0] \n",
      "__________________________________________________________________________________________________\n",
      "dropout_6 (Dropout)             (None, 1536)         0           global_average_pooling2d_3[0][0] \n",
      "__________________________________________________________________________________________________\n",
      "dropout_8 (Dropout)             (None, 1792)         0           global_average_pooling2d_4[0][0] \n",
      "__________________________________________________________________________________________________\n",
      "dropout_10 (Dropout)            (None, 2048)         0           global_average_pooling2d_5[0][0] \n",
      "__________________________________________________________________________________________________\n",
      "dropout_12 (Dropout)            (None, 2304)         0           global_average_pooling2d_6[0][0] \n",
      "__________________________________________________________________________________________________\n",
      "dropout_14 (Dropout)            (None, 2560)         0           global_average_pooling2d_7[0][0] \n",
      "__________________________________________________________________________________________________\n",
      "dense (Dense)                   (None, 512)          655872      dropout[0][0]                    \n",
      "__________________________________________________________________________________________________\n",
      "dense_3 (Dense)                 (None, 512)          655872      dropout_2[0][0]                  \n",
      "__________________________________________________________________________________________________\n",
      "dense_6 (Dense)                 (None, 512)          721408      dropout_4[0][0]                  \n",
      "__________________________________________________________________________________________________\n",
      "dense_9 (Dense)                 (None, 512)          786944      dropout_6[0][0]                  \n",
      "__________________________________________________________________________________________________\n",
      "dense_12 (Dense)                (None, 512)          918016      dropout_8[0][0]                  \n",
      "__________________________________________________________________________________________________\n",
      "dense_15 (Dense)                (None, 512)          1049088     dropout_10[0][0]                 \n",
      "__________________________________________________________________________________________________\n",
      "dense_18 (Dense)                (None, 512)          1180160     dropout_12[0][0]                 \n",
      "__________________________________________________________________________________________________\n",
      "dense_21 (Dense)                (None, 512)          1311232     dropout_14[0][0]                 \n",
      "__________________________________________________________________________________________________\n",
      "dropout_1 (Dropout)             (None, 512)          0           dense[0][0]                      \n",
      "__________________________________________________________________________________________________\n",
      "dropout_3 (Dropout)             (None, 512)          0           dense_3[0][0]                    \n",
      "__________________________________________________________________________________________________\n",
      "dropout_5 (Dropout)             (None, 512)          0           dense_6[0][0]                    \n",
      "__________________________________________________________________________________________________\n",
      "dropout_7 (Dropout)             (None, 512)          0           dense_9[0][0]                    \n",
      "__________________________________________________________________________________________________\n",
      "dropout_9 (Dropout)             (None, 512)          0           dense_12[0][0]                   \n",
      "__________________________________________________________________________________________________\n",
      "dropout_11 (Dropout)            (None, 512)          0           dense_15[0][0]                   \n",
      "__________________________________________________________________________________________________\n",
      "dropout_13 (Dropout)            (None, 512)          0           dense_18[0][0]                   \n",
      "__________________________________________________________________________________________________\n",
      "dropout_15 (Dropout)            (None, 512)          0           dense_21[0][0]                   \n",
      "__________________________________________________________________________________________________\n",
      "dense_1 (Dense)                 (None, 128)          65664       dropout_1[0][0]                  \n",
      "__________________________________________________________________________________________________\n",
      "dense_4 (Dense)                 (None, 128)          65664       dropout_3[0][0]                  \n",
      "__________________________________________________________________________________________________\n",
      "dense_7 (Dense)                 (None, 128)          65664       dropout_5[0][0]                  \n",
      "__________________________________________________________________________________________________\n",
      "dense_10 (Dense)                (None, 128)          65664       dropout_7[0][0]                  \n",
      "__________________________________________________________________________________________________\n",
      "dense_13 (Dense)                (None, 128)          65664       dropout_9[0][0]                  \n",
      "__________________________________________________________________________________________________\n",
      "dense_16 (Dense)                (None, 128)          65664       dropout_11[0][0]                 \n",
      "__________________________________________________________________________________________________\n",
      "dense_19 (Dense)                (None, 128)          65664       dropout_13[0][0]                 \n",
      "__________________________________________________________________________________________________\n",
      "dense_22 (Dense)                (None, 128)          65664       dropout_15[0][0]                 \n",
      "__________________________________________________________________________________________________\n",
      "dense_2 (Dense)                 (None, 1)            129         dense_1[0][0]                    \n",
      "__________________________________________________________________________________________________\n",
      "dense_5 (Dense)                 (None, 1)            129         dense_4[0][0]                    \n",
      "__________________________________________________________________________________________________\n",
      "dense_8 (Dense)                 (None, 1)            129         dense_7[0][0]                    \n",
      "__________________________________________________________________________________________________\n",
      "dense_11 (Dense)                (None, 1)            129         dense_10[0][0]                   \n",
      "__________________________________________________________________________________________________\n",
      "dense_14 (Dense)                (None, 1)            129         dense_13[0][0]                   \n",
      "__________________________________________________________________________________________________\n",
      "dense_17 (Dense)                (None, 1)            129         dense_16[0][0]                   \n",
      "__________________________________________________________________________________________________\n",
      "dense_20 (Dense)                (None, 1)            129         dense_19[0][0]                   \n",
      "__________________________________________________________________________________________________\n",
      "dense_23 (Dense)                (None, 1)            129         dense_22[0][0]                   \n",
      "==================================================================================================\n",
      "Total params: 188,226,974\n",
      "Trainable params: 187,134,958\n",
      "Non-trainable params: 1,092,016\n",
      "__________________________________________________________________________________________________\n",
      "Epoch 1/12\n",
      "520/519 [==============================] - 632s 1s/step - dense_17_loss: 0.5252 - dense_20_auc: 0.7045 - dense_11_auc: 0.7066 - dense_23_auc: 0.7016 - dense_8_loss: 0.5006 - dense_5_loss: 0.5121 - loss: 4.1306 - dense_14_loss: 0.5185 - dense_5_auc: 0.7017 - dense_11_loss: 0.5070 - dense_2_loss: 0.4850 - dense_23_loss: 0.5428 - dense_14_auc: 0.7014 - dense_2_auc: 0.7323 - dense_17_auc: 0.6941 - dense_8_auc: 0.7033 - dense_20_loss: 0.5393 - lr: 5.0000e-06\n",
      "Epoch 2/12\n",
      "520/519 [==============================] - 630s 1s/step - dense_17_loss: 0.4061 - dense_20_auc: 0.8491 - dense_11_auc: 0.8595 - dense_23_auc: 0.8541 - dense_8_loss: 0.3936 - dense_5_loss: 0.4003 - loss: 3.2062 - dense_14_loss: 0.4044 - dense_5_auc: 0.8589 - dense_11_loss: 0.3992 - dense_2_loss: 0.3949 - dense_23_loss: 0.4018 - dense_14_auc: 0.8523 - dense_2_auc: 0.8646 - dense_17_auc: 0.8502 - dense_8_auc: 0.8643 - dense_20_loss: 0.4059 - lr: 3.6000e-05\n",
      "Epoch 3/12\n",
      "520/519 [==============================] - 632s 1s/step - dense_17_loss: 0.3680 - dense_20_auc: 0.8930 - dense_11_auc: 0.8936 - dense_23_auc: 0.8958 - dense_8_loss: 0.3605 - dense_5_loss: 0.3669 - loss: 2.9141 - dense_14_loss: 0.3630 - dense_5_auc: 0.8924 - dense_11_loss: 0.3651 - dense_2_loss: 0.3632 - dense_23_loss: 0.3625 - dense_14_auc: 0.8952 - dense_2_auc: 0.8957 - dense_17_auc: 0.8902 - dense_8_auc: 0.8979 - dense_20_loss: 0.3650 - lr: 6.7000e-05\n",
      "Epoch 4/12\n",
      "520/519 [==============================] - 635s 1s/step - dense_17_loss: 0.3455 - dense_20_auc: 0.9122 - dense_11_auc: 0.9158 - dense_23_auc: 0.9140 - dense_8_loss: 0.3393 - dense_5_loss: 0.3444 - loss: 2.7363 - dense_14_loss: 0.3398 - dense_5_auc: 0.9118 - dense_11_loss: 0.3397 - dense_2_loss: 0.3429 - dense_23_loss: 0.3412 - dense_14_auc: 0.9154 - dense_2_auc: 0.9136 - dense_17_auc: 0.9109 - dense_8_auc: 0.9159 - dense_20_loss: 0.3435 - lr: 9.8000e-05\n",
      "Epoch 5/12\n",
      "520/519 [==============================] - 645s 1s/step - dense_17_loss: 0.3246 - dense_20_auc: 0.9278 - dense_11_auc: 0.9301 - dense_23_auc: 0.9290 - dense_8_loss: 0.3206 - dense_5_loss: 0.3279 - loss: 2.5848 - dense_14_loss: 0.3199 - dense_5_auc: 0.9250 - dense_11_loss: 0.3209 - dense_2_loss: 0.3258 - dense_23_loss: 0.3216 - dense_14_auc: 0.9310 - dense_2_auc: 0.9270 - dense_17_auc: 0.9267 - dense_8_auc: 0.9304 - dense_20_loss: 0.3235 - lr: 1.2900e-04\n",
      "Epoch 6/12\n",
      "520/519 [==============================] - 635s 1s/step - dense_17_loss: 0.3106 - dense_20_auc: 0.9395 - dense_11_auc: 0.9413 - dense_23_auc: 0.9395 - dense_8_loss: 0.3050 - dense_5_loss: 0.3126 - loss: 2.4588 - dense_14_loss: 0.3033 - dense_5_auc: 0.9358 - dense_11_loss: 0.3041 - dense_2_loss: 0.3105 - dense_23_loss: 0.3062 - dense_14_auc: 0.9417 - dense_2_auc: 0.9375 - dense_17_auc: 0.9361 - dense_8_auc: 0.9406 - dense_20_loss: 0.3064 - lr: 1.6000e-04\n",
      "Epoch 7/12\n",
      "520/519 [==============================] - 631s 1s/step - dense_17_loss: 0.2914 - dense_20_auc: 0.9500 - dense_11_auc: 0.9509 - dense_23_auc: 0.9492 - dense_8_loss: 0.2870 - dense_5_loss: 0.2975 - loss: 2.3223 - dense_14_loss: 0.2851 - dense_5_auc: 0.9454 - dense_11_loss: 0.2881 - dense_2_loss: 0.2953 - dense_23_loss: 0.2893 - dense_14_auc: 0.9521 - dense_2_auc: 0.9471 - dense_17_auc: 0.9484 - dense_8_auc: 0.9520 - dense_20_loss: 0.2886 - lr: 1.2820e-04\n",
      "Epoch 8/12\n",
      "520/519 [==============================] - 632s 1s/step - dense_17_loss: 0.2754 - dense_20_auc: 0.9597 - dense_11_auc: 0.9609 - dense_23_auc: 0.9583 - dense_8_loss: 0.2722 - dense_5_loss: 0.2837 - loss: 2.1944 - dense_14_loss: 0.2685 - dense_5_auc: 0.9535 - dense_11_loss: 0.2696 - dense_2_loss: 0.2814 - dense_23_loss: 0.2723 - dense_14_auc: 0.9610 - dense_2_auc: 0.9551 - dense_17_auc: 0.9575 - dense_8_auc: 0.9599 - dense_20_loss: 0.2713 - lr: 1.0276e-04\n",
      "Epoch 9/12\n",
      "520/519 [==============================] - 636s 1s/step - dense_17_loss: 0.2623 - dense_20_auc: 0.9669 - dense_11_auc: 0.9671 - dense_23_auc: 0.9658 - dense_8_loss: 0.2592 - dense_5_loss: 0.2716 - loss: 2.0917 - dense_14_loss: 0.2552 - dense_5_auc: 0.9608 - dense_11_loss: 0.2575 - dense_2_loss: 0.2723 - dense_23_loss: 0.2574 - dense_14_auc: 0.9674 - dense_2_auc: 0.9604 - dense_17_auc: 0.9645 - dense_8_auc: 0.9664 - dense_20_loss: 0.2563 - lr: 8.2408e-05\n",
      "Epoch 10/12\n",
      "520/519 [==============================] - 633s 1s/step - dense_17_loss: 0.2520 - dense_20_auc: 0.9721 - dense_11_auc: 0.9711 - dense_23_auc: 0.9716 - dense_8_loss: 0.2483 - dense_5_loss: 0.2616 - loss: 2.0029 - dense_14_loss: 0.2422 - dense_5_auc: 0.9653 - dense_11_loss: 0.2471 - dense_2_loss: 0.2622 - dense_23_loss: 0.2453 - dense_14_auc: 0.9731 - dense_2_auc: 0.9652 - dense_17_auc: 0.9692 - dense_8_auc: 0.9710 - dense_20_loss: 0.2444 - lr: 6.6126e-05\n",
      "Epoch 11/12\n",
      "520/519 [==============================] - 631s 1s/step - dense_17_loss: 0.2403 - dense_20_auc: 0.9772 - dense_11_auc: 0.9765 - dense_23_auc: 0.9758 - dense_8_loss: 0.2421 - dense_5_loss: 0.2531 - loss: 1.9273 - dense_14_loss: 0.2344 - dense_5_auc: 0.9697 - dense_11_loss: 0.2357 - dense_2_loss: 0.2539 - dense_23_loss: 0.2352 - dense_14_auc: 0.9768 - dense_2_auc: 0.9695 - dense_17_auc: 0.9741 - dense_8_auc: 0.9738 - dense_20_loss: 0.2328 - lr: 5.3101e-05\n",
      "Epoch 12/12\n",
      "520/519 [==============================] - 631s 1s/step - dense_17_loss: 0.2316 - dense_20_auc: 0.9798 - dense_11_auc: 0.9790 - dense_23_auc: 0.9794 - dense_8_loss: 0.2334 - dense_5_loss: 0.2460 - loss: 1.8637 - dense_14_loss: 0.2257 - dense_5_auc: 0.9728 - dense_11_loss: 0.2292 - dense_2_loss: 0.2478 - dense_23_loss: 0.2251 - dense_14_auc: 0.9799 - dense_2_auc: 0.9722 - dense_17_auc: 0.9776 - dense_8_auc: 0.9778 - dense_20_loss: 0.2249 - lr: 4.2681e-05\n"
     ]
    }
   ],
   "source": [
    "ds_train = get_dataset(TRAINING_FILENAMES, augment=True, shuffle=True, repeat=True)\n",
    "ds_train = ds_train.map(lambda img, label: (img, tuple([label] * 8)))\n",
    "\n",
    "steps_train = count_data_items(TRAINING_FILENAMES) / (16 * REPLICAS)\n",
    "\n",
    "with strategy.scope():\n",
    "    model = build_model()\n",
    "\n",
    "    losses = [tf.keras.losses.BinaryCrossentropy(label_smoothing = 0.05) for i in range(8)]\n",
    "\n",
    "    model.compile(optimizer='adam', loss=losses,\n",
    "                   metrics=[tf.keras.metrics.AUC(name='auc')])\n",
    "    \n",
    "history = model.fit(ds_train, verbose=1, steps_per_epoch=steps_train, \n",
    "                    epochs=12, callbacks=[lr_callback()])"
   ]
  },
  {
   "cell_type": "code",
   "execution_count": 31,
   "metadata": {},
   "outputs": [],
   "source": [
    "ds_test = get_dataset(TEST_FILENAMES,labeled=False,return_image_names=False,augment=True,\n",
    "            repeat=True,shuffle=False)"
   ]
  },
  {
   "cell_type": "code",
   "execution_count": 32,
   "metadata": {},
   "outputs": [
    {
     "name": "stdout",
     "output_type": "stream",
     "text": [
      "2145/2144 [==============================] - 809s 377ms/step\n"
     ]
    }
   ],
   "source": [
    "cnt_test = count_data_items(TEST_FILENAMES)\n",
    "steps = cnt_test / (16 * REPLICAS) * 25\n",
    "probs = model.predict(ds_test, verbose=1, steps=steps)"
   ]
  },
  {
   "cell_type": "code",
   "execution_count": 33,
   "metadata": {},
   "outputs": [],
   "source": [
    "probs = np.stack(probs)\n",
    "probs = probs[:,:cnt_test * 25]\n",
    "probs = np.stack(np.split(probs, 25, axis=1), axis=1)\n",
    "probs = np.mean(probs, axis=1)"
   ]
  },
  {
   "cell_type": "code",
   "execution_count": 34,
   "metadata": {},
   "outputs": [],
   "source": [
    "ds = get_dataset(TEST_FILENAMES, augment=False, repeat=False, \n",
    "                 labeled=False, return_image_names=True)\n",
    "\n",
    "image_names = np.array([img_name.numpy().decode(\"utf-8\") \n",
    "                        for img, img_name in iter(ds.unbatch())])"
   ]
  },
  {
   "cell_type": "code",
   "execution_count": 35,
   "metadata": {},
   "outputs": [],
   "source": [
    "for i in range(8):\n",
    "    submission = pd.DataFrame(dict(\n",
    "        image_name = image_names,\n",
    "        target     = probs[i,:,0]))\n",
    "\n",
    "    submission = submission.sort_values('image_name') \n",
    "    submission.to_csv(f'individual_model_{i+2}.csv', index=False)"
   ]
  },
  {
   "cell_type": "code",
   "execution_count": 36,
   "metadata": {},
   "outputs": [],
   "source": [
    "submission = pd.DataFrame(dict(\n",
    "    image_name = image_names,\n",
    "    target     = np.mean([probs[1,:,0], probs[2,:,0], probs[3,:,0], probs[4,:,0], probs[5,:,0]\n",
    "                         , probs[6,:,0], probs[7,:,0]],  axis=0)))\n",
    "\n",
    "submission = submission.sort_values('image_name') \n",
    "submission.to_csv('blended_models_7.csv', index=False)"
   ]
  },
  {
   "cell_type": "code",
   "execution_count": 37,
   "metadata": {},
   "outputs": [],
   "source": [
    "submission = pd.DataFrame(dict(\n",
    "    image_name = image_names,\n",
    "    target     = np.mean([probs[2,:,0], probs[3,:,0], probs[4,:,0], probs[5,:,0]\n",
    "                         , probs[6,:,0], probs[7,:,0]],  axis=0)))\n",
    "\n",
    "submission = submission.sort_values('image_name') \n",
    "submission.to_csv('blended_models_6.csv', index=False)"
   ]
  },
  {
   "cell_type": "code",
   "execution_count": 38,
   "metadata": {},
   "outputs": [],
   "source": [
    "submission = pd.DataFrame(dict(\n",
    "    image_name = image_names,\n",
    "    target     = np.mean([probs[3,:,0], probs[4,:,0], probs[5,:,0], probs[6,:,0], probs[7,:,0]],  axis=0)))\n",
    "\n",
    "submission = submission.sort_values('image_name') \n",
    "submission.to_csv('blended_models_5.csv', index=False)"
   ]
  },
  {
   "cell_type": "code",
   "execution_count": 39,
   "metadata": {},
   "outputs": [],
   "source": [
    "submission = pd.DataFrame(dict(\n",
    "    image_name = image_names,\n",
    "    target     = np.mean([probs[4,:,0], probs[5,:,0], probs[6,:,0], probs[7,:,0]],  axis=0)))\n",
    "\n",
    "submission = submission.sort_values('image_name') \n",
    "submission.to_csv('blended_models_4.csv', index=False)"
   ]
  },
  {
   "cell_type": "code",
   "execution_count": 40,
   "metadata": {},
   "outputs": [],
   "source": [
    "submission = pd.DataFrame(dict(\n",
    "    image_name = image_names,\n",
    "    target     = np.mean(probs[:,:,0], axis=0)))\n",
    "\n",
    "submission = submission.sort_values('image_name') \n",
    "submission.to_csv('blended_models_mean.csv', index=False)"
   ]
  },
  {
   "cell_type": "code",
   "execution_count": 41,
   "metadata": {},
   "outputs": [],
   "source": [
    "for i in range(4):\n",
    "    weight = 0.03*(i+1)\n",
    "    sub = submission.copy()\n",
    "    sub['target'] = (submission['target'] * (1-weight) + meta_df['target'] * weight)\n",
    "\n",
    "    sub.to_csv(f'blended_with_meta_{i}.csv', index=False)"
   ]
  },
  {
   "cell_type": "code",
   "execution_count": 42,
   "metadata": {},
   "outputs": [],
   "source": [
    "submission = pd.DataFrame(dict(\n",
    "    image_name = image_names,\n",
    "    target     = 0.12*probs[3,:,0] + 0.16*probs[4,:,0] + 0.2*probs[5,:,0] + 0.22*probs[6,:,0] + 0.27*probs[7,:,0] + 0.03*meta_df['target']))\n",
    "\n",
    "submission = submission.sort_values('image_name') \n",
    "submission.to_csv('models_blended_1.csv', index=False)"
   ]
  },
  {
   "cell_type": "code",
   "execution_count": 43,
   "metadata": {},
   "outputs": [],
   "source": [
    "submission = pd.DataFrame(dict(\n",
    "    image_name = image_names,\n",
    "    target     = 0.16*probs[4,:,0] + 0.22*probs[5,:,0] + 0.26*probs[6,:,0] + 0.32*probs[7,:,0] + 0.04*meta_df['target']))\n",
    "\n",
    "submission = submission.sort_values('image_name') \n",
    "submission.to_csv('models_blended_2.csv', index=False)"
   ]
  },
  {
   "cell_type": "code",
   "execution_count": 44,
   "metadata": {},
   "outputs": [],
   "source": [
    "submission = pd.DataFrame(dict(\n",
    "    image_name = image_names,\n",
    "    target     = 0.25*probs[5,:,0] + 0.4*probs[6,:,0] + 0.3*probs[7,:,0] + 0.05*meta_df['target']))\n",
    "\n",
    "submission = submission.sort_values('image_name') \n",
    "submission.to_csv('models_blended_3.csv', index=False)"
   ]
  }
 ],
 "metadata": {
  "kernelspec": {
   "display_name": "Python 3",
   "language": "python",
   "name": "python3"
  },
  "language_info": {
   "codemirror_mode": {
    "name": "ipython",
    "version": 3
   },
   "file_extension": ".py",
   "mimetype": "text/x-python",
   "name": "python",
   "nbconvert_exporter": "python",
   "pygments_lexer": "ipython3",
   "version": "3.7.6"
  }
 },
 "nbformat": 4,
 "nbformat_minor": 4
}
